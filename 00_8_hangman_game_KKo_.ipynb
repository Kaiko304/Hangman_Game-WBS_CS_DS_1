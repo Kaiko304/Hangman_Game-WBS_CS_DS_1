{
 "cells": [
  {
   "cell_type": "markdown",
   "id": "649cee80-bfe9-4cf7-955b-560a475b94d7",
   "metadata": {
    "id": "649cee80-bfe9-4cf7-955b-560a475b94d7"
   },
   "source": [
    "# Hangman game"
   ]
  },
  {
   "cell_type": "markdown",
   "id": "451fb977-2ab3-4c26-b7d6-dee486eef375",
   "metadata": {
    "id": "451fb977-2ab3-4c26-b7d6-dee486eef375"
   },
   "source": [
    "Hangman is a guessing game where the player(s) try to guess the word by suggesting a letter.\n",
    "Player is allowed a certain number of mistakes.\n",
    "The game starts with a word where all letters are replaced with a `-` so the only information available to a player is the number of letters in a word.\n",
    "**Start**: `------`\n",
    "For each correctly guessed letter, a position of the letter is revealed (if there are multiple positions for a same letter, they are all revealed.\n",
    "**Correct**: `-E--E-`\n",
    "For each wrongly guessed letter, number of allowed mistakes decreases by 1.\n",
    "**Wrong**: 'Number of allowed mistakes is now 5'"
   ]
  },
  {
   "cell_type": "markdown",
   "id": "ba3d2b29-e8f8-43fd-91c4-ab89fb4a611b",
   "metadata": {
    "id": "ba3d2b29-e8f8-43fd-91c4-ab89fb4a611b"
   },
   "source": [
    "Name of the game comes from a drawing of a hanged stick figure. For every mistake a new element of a hanged figure is added.\n",
    "If a player guesses a word before the last element of a figure is added, player wins.\n",
    "If a player doesn't guess a word before the last element of a figure is added, player loses."
   ]
  },
  {
   "cell_type": "code",
   "execution_count": null,
   "id": "MQDLuhtcJ4Qq",
   "metadata": {
    "id": "MQDLuhtcJ4Qq"
   },
   "outputs": [],
   "source": [
    "pool = [\"Coffee\", \"Bakery\", \"Circle\", \"Lizard\", \"Donkey\", \"Palace\", \"Bikini\", \"Winter\", \"Turtle\", \"Ticket\", \"Office\", \"Orange\", \"People\", \"Candle\", \"Bridge\", \"Spirit\", \"Jacket\", \"Banana\", \"Window\", \"Guitar\", \"Doctor\", \"Rabbit\", \"Flower\", \"Planet\", \"Sunset\", \"Family\", \"Circle\", \"Hammer\", \"Castle\", \"Camera\", \"Forest\", \"Island\", \"Mother\", \"Father\", \"Bridge\", \"Salmon\", \"Tomato\"]\n",
    "import random\n",
    "word = str.upper(random.choice(pool))\n",
    "print(f\"(The word to be guessed is: {word})\")\n",
    "hidden_word = \"-\" * (len(word))\n",
    "print(f\"Hidden word is: {hidden_word}\\n\")\n",
    "mistake_count = 6\n",
    "while mistake_count > 0 and hidden_word.count(\"-\") != 0:\n",
    "   pick = input(\"Pick a letter: \")\n",
    "   picked_letter = str.upper(pick)\n",
    "   index_count = 0\n",
    "   letter_count = word.count(picked_letter) # checks if picked_letter is correct or mistake\n",
    "   if letter_count > 0:\n",
    "       for characters in word: # iterates each character of the word\n",
    "           if picked_letter == characters:\n",
    "               hidden_word = hidden_word[:index_count] + picked_letter + hidden_word[index_count+1:]\n",
    "               if hidden_word == word:\n",
    "                 print(\"\\nThe hidden word was: \" + word)\n",
    "                 print(\"\\nCONGRATULATIONS!   You've saved your neck :)\")\n",
    "                 break\n",
    "               else:\n",
    "                 print(f\"\\nTREFFER!!!   The hidden word contains the letter {picked_letter}. \\nThe hidden word is now: \" + hidden_word)\n",
    "           index_count += 1\n",
    "   elif mistake_count > 0 and letter_count == 0:\n",
    "       mistake_count -=1\n",
    "       print(f\"\\nNIETE!   The letter {picked_letter} in not in the hidden word.\\nNumber of mistakes left: {mistake_count}\")\n",
    "else: #elif mistake_count == 0:\n",
    "   print(\"\\nHANGED!!!    You are dead meat, buddy.\")\n",
    "\n",
    "# Joan\n",
    "# Why is the break not working? I get hanged even if i solve the case.\n"
   ]
  },
  {
   "cell_type": "markdown",
   "id": "1d2579aa-e600-4e7a-ba90-93e628749ce0",
   "metadata": {
    "id": "1d2579aa-e600-4e7a-ba90-93e628749ce0",
    "tags": []
   },
   "source": [
    "**Here you can see a simulation of 3 different steps:**\n",
    "Hidden word is: ------\n",
    "==============================================================\n",
    "Pick a letter:\n",
    " S\n",
    "Correct! There is a letter S in a secret word!\n",
    "S-----\n",
    "==============================================================\n",
    "Pick a letter:\n",
    " V\n",
    "WRONG! Number of mistakes left: 5\n",
    "\n",
    "        ____________\n",
    "         |\n",
    "         O\n",
    "==============================================================\n",
    "Pick a letter:\n",
    " L\n",
    "WRONG! Number of mistakes left: 4\n",
    "\n",
    "        ____________\n",
    "         |\n",
    "         O\n",
    "        /\n",
    "==============================================================\n",
    "Pick a letter:"
   ]
  },
  {
   "cell_type": "markdown",
   "id": "94acc394-2211-4f74-bb29-ec5cea076fa4",
   "metadata": {
    "id": "94acc394-2211-4f74-bb29-ec5cea076fa4"
   },
   "source": [
    "## Try to create a hangman game on your own using what you have learned so far."
   ]
  },
  {
   "cell_type": "markdown",
   "id": "a2fd839d-c31d-4c2a-af33-6f7551effcc9",
   "metadata": {
    "id": "a2fd839d-c31d-4c2a-af33-6f7551effcc9"
   },
   "source": [
    "### Step-by-step solution"
   ]
  },
  {
   "cell_type": "markdown",
   "id": "4340fe5b-c87a-419d-a0c1-8fdf44377308",
   "metadata": {
    "id": "4340fe5b-c87a-419d-a0c1-8fdf44377308"
   },
   "source": [
    "#### &nbsp;1. step"
   ]
  },
  {
   "cell_type": "markdown",
   "id": "ed05cb0b-111d-4093-b9de-78abd9b3ca8d",
   "metadata": {
    "id": "ed05cb0b-111d-4093-b9de-78abd9b3ca8d"
   },
   "source": [
    "- Create a variable `word` and give it a value of a single word string (all in capitals!)\n",
    "- Create a variable `hidden_word` that will have the same length as `word` but all characters are replaced with dashes `-`\n",
    "- Print out the `hidden_word` in a statement 'Hidden word is: `{hidden_word}`\n",
    "- Create a variable `picked_letter` that will take an `input()` from a user (make sure case matches the `word` case)\n",
    "- Create a single if/else statement that will check if a `word` contains the `picked_letter` (count bigger than 0).\n",
    "    Print the outcome 'CORRECT! The word contains the letter `picked_letter`' if condition is True\n",
    "    Print the outcome 'WRONG!' If condition is False"
   ]
  },
  {
   "cell_type": "code",
   "execution_count": null,
   "id": "VfquR_ayK2Be",
   "metadata": {
    "id": "VfquR_ayK2Be"
   },
   "outputs": [],
   "source": []
  },
  {
   "cell_type": "markdown",
   "id": "5ae4a8f1-1dff-4197-a884-c7af858522d9",
   "metadata": {
    "id": "5ae4a8f1-1dff-4197-a884-c7af858522d9",
    "jp-MarkdownHeadingCollapsed": true,
    "tags": []
   },
   "source": [
    "##### Solution"
   ]
  },
  {
   "cell_type": "code",
   "execution_count": null,
   "id": "5eef4d8d-69fd-49e9-847c-c9f0110fecc6",
   "metadata": {
    "colab": {
     "base_uri": "https://localhost:8080/"
    },
    "id": "5eef4d8d-69fd-49e9-847c-c9f0110fecc6",
    "outputId": "e836d6fc-e173-4d33-b9e5-785efe02056f"
   },
   "outputs": [
    {
     "name": "stdout",
     "output_type": "stream",
     "text": [
      "Hidden word is ------\n",
      "e\n",
      "CORRECT! The word contains the E\n"
     ]
    }
   ],
   "source": [
    "word = 'SECRET'\n",
    "hidden_word = '-'*len(word)\n",
    "print(f'Hidden word is {hidden_word}')\n",
    "picked_letter = input().capitalize()\n",
    "if word.count(picked_letter) > 0:\n",
    "    print(f'CORRECT! The word contains the {picked_letter}')\n",
    "else:\n",
    "    print(f'WRONG!')"
   ]
  },
  {
   "cell_type": "markdown",
   "id": "a09706f8-26dd-4bcc-bf71-dbccbdc986c4",
   "metadata": {
    "id": "a09706f8-26dd-4bcc-bf71-dbccbdc986c4",
    "tags": []
   },
   "source": [
    "#### &nbsp;2. step"
   ]
  },
  {
   "cell_type": "markdown",
   "id": "1ea2d189-3777-4300-bf17-fc95cd2588d3",
   "metadata": {
    "id": "1ea2d189-3777-4300-bf17-fc95cd2588d3"
   },
   "source": [
    "- Copy your solution from the 1. step\n",
    "- Create a variable `mistake_count` and set the value to 6\n",
    "- Create a while loop that will loop as long as the `mistake_count` is bigger than 0\n",
    "- Place the if/else statement from the step 1 inside the while loop\n",
    "- Every time player makes a mistake (condition of if/else is False) decrease the `mistake_count` by one\n",
    "- Change the 'WRONG' printout to: 'WRONG! Number of mistakes left: `{mistake_count}`'\n",
    "- Place the code where you take input from a user inside the while loop so every new iterarion a player can give a new letter\n",
    "- Before the input from a user add code that will print text 'Pick a letter:'\n",
    "- After and outside the while loop create an if statement that askes if a `mistake_count` is equal to 0 and if condition is true print 'HANGED!!' as this will happen when game is lost\n",
    "\n",
    "This solution will only stop if player makes a wrong guess 6 times so if you don't want to continue press the squared stop button to interrupt the while loop manually"
   ]
  },
  {
   "cell_type": "code",
   "execution_count": null,
   "id": "15e7f2f8-d87d-436b-8bae-20855ed32191",
   "metadata": {
    "id": "15e7f2f8-d87d-436b-8bae-20855ed32191"
   },
   "outputs": [],
   "source": []
  },
  {
   "cell_type": "markdown",
   "id": "86b350e4-45d5-4e6f-9517-4b9bc2284cee",
   "metadata": {
    "id": "86b350e4-45d5-4e6f-9517-4b9bc2284cee",
    "jp-MarkdownHeadingCollapsed": true,
    "tags": []
   },
   "source": [
    "##### Solution"
   ]
  },
  {
   "cell_type": "code",
   "execution_count": null,
   "id": "192b3ad5-13eb-472b-8b1f-9696f8a21a2e",
   "metadata": {
    "id": "192b3ad5-13eb-472b-8b1f-9696f8a21a2e"
   },
   "outputs": [],
   "source": [
    "word = 'SECRET'\n",
    "hidden_word = '-'*len(word)\n",
    "print(f'Hidden word is {hidden_word}')\n",
    "mistake_count = 6\n",
    "while mistake_count > 0:\n",
    "    print('Pick a letter:')\n",
    "    picked_letter = input().capitalize()\n",
    "    if word.count(picked_letter) > 0:\n",
    "        print(f'CORRECT! The word contains the {picked_letter}')\n",
    "    else:\n",
    "        mistake_count -= 1\n",
    "        print(f'WRONG! Number of mistakes left: {mistake_count}')\n",
    "if mistake_count == 0:\n",
    "    print('HANGED!!!')"
   ]
  },
  {
   "cell_type": "markdown",
   "id": "0fba1bf6-c7f5-4553-b97e-f8690a93574b",
   "metadata": {
    "id": "0fba1bf6-c7f5-4553-b97e-f8690a93574b"
   },
   "source": [
    "#### &nbsp;3. step"
   ]
  },
  {
   "cell_type": "markdown",
   "id": "6ded2788-7c29-42db-8f01-60155bbf4f4f",
   "metadata": {
    "id": "6ded2788-7c29-42db-8f01-60155bbf4f4f"
   },
   "source": [
    "- Copy your solution from the 2. step\n",
    "- Inside the while loop create a variable `index_count` and set it to 0 (to count the position of a `picked_letter` in a `word`)\n",
    "- Create a for loop inside the while loop that will iterate over all letters in a `word`\n",
    "- Inside the for loop create an if statement that will check if a letter is equal to a picked_letter\n",
    "    If the condition is true, break the hidden word so it consist of: first part of hidden word ('--') + picked_letter + second part of hidden word ('---') - index_count will help you with positions\n",
    "    Also, if condition is true increase the letter_count by 1\n",
    "- Inside the for loop increase the index_count by 1 for each iterarion\n",
    "- In the (`if word.count(picked_letter) > 0:`) add another print: `hidden word`\n",
    "- add another condition to while loop That will check if number of dashes `-` inside the `hidden_word` is different than 0\n",
    "- Outside the while loop after the existing `if mistake_count == 0` add one else and inside of it print out the 'CONGRATULATIONS'"
   ]
  },
  {
   "cell_type": "code",
   "execution_count": null,
   "id": "2aa101ec-a9af-47f0-bd8c-e29e9294e2cb",
   "metadata": {
    "id": "2aa101ec-a9af-47f0-bd8c-e29e9294e2cb"
   },
   "outputs": [],
   "source": [
    "# your code here"
   ]
  },
  {
   "cell_type": "markdown",
   "id": "2cdc5c9b-0d96-44d0-918b-8fa2a1b07413",
   "metadata": {
    "id": "2cdc5c9b-0d96-44d0-918b-8fa2a1b07413",
    "jp-MarkdownHeadingCollapsed": true,
    "tags": []
   },
   "source": [
    "##### Solution"
   ]
  },
  {
   "cell_type": "code",
   "execution_count": null,
   "id": "990aac1d-7c5b-4afe-8f49-1d303fd7b7c5",
   "metadata": {
    "id": "990aac1d-7c5b-4afe-8f49-1d303fd7b7c5",
    "tags": []
   },
   "outputs": [],
   "source": [
    "\n",
    "word = 'SECRET'\n",
    "hidden_word = '-'*len(word)\n",
    "mistake_count = 6\n",
    "print(f'Hidden word is {hidden_word}')\n",
    "while mistake_count > 0 and hidden_word.count('-') != 0:\n",
    "    index_count = 0\n",
    "    print('Pick a letter:')\n",
    "    picked_letter = input().capitalize()\n",
    "    for letter in word:\n",
    "        if letter == picked_letter:\n",
    "            hidden_word = hidden_word[:index_count] + picked_letter + hidden_word[index_count+1:]\n",
    "\n",
    "        index_count += 1\n",
    "\n",
    "    if word.count(picked_letter) > 0:\n",
    "        print(f'CORRECT! The word contains the {picked_letter}')\n",
    "        print(hidden_word)\n",
    "    else:\n",
    "        mistake_count -= 1\n",
    "        print(f'WRONG! Number of mistakes left: {mistake_count}')\n",
    "\n",
    "if mistake_count == 0:\n",
    "    print('HANGED!!!')\n",
    "else:\n",
    "    print('CONGRATULATIONS!!!')"
   ]
  },
  {
   "cell_type": "markdown",
   "id": "EOK1XxsktLzn",
   "metadata": {
    "id": "EOK1XxsktLzn"
   },
   "source": [
    "Here's a small example of how the code is replacing letters:"
   ]
  },
  {
   "cell_type": "code",
   "execution_count": null,
   "id": "_EC8INl6XpDJ",
   "metadata": {
    "executionInfo": {
     "elapsed": 3,
     "status": "aborted",
     "timestamp": 1697727437548,
     "user": {
      "displayName": "KaiKo",
      "userId": "13043650929272914643"
     },
     "user_tz": -120
    },
    "id": "_EC8INl6XpDJ"
   },
   "outputs": [],
   "source": [
    "secret_word = \"TAKE\"\n",
    "index_count = 0\n",
    "for letter in secret_word:\n",
    "  print(secret_word[:index_count] + \"_\" + secret_word[index_count+1:])\n",
    "  index_count += 1"
   ]
  },
  {
   "cell_type": "markdown",
   "id": "ed1ce9a2-5f9c-48a0-8dae-be9db38c092a",
   "metadata": {
    "id": "ed1ce9a2-5f9c-48a0-8dae-be9db38c092a"
   },
   "source": [
    "#### &nbsp;4. Step"
   ]
  },
  {
   "cell_type": "markdown",
   "id": "b4f4989a-a4fd-4a2b-8700-310cbc4cdf33",
   "metadata": {
    "id": "b4f4989a-a4fd-4a2b-8700-310cbc4cdf33"
   },
   "source": [
    "- You are given a dictionary that contains an 'image' of a hanged figure. Each item in the dictionary has a different number of figure elements. Try to implement it in your solution so the correct figure is printed out every time a mistake is made.\n",
    "- Try to printout some symbols that will help you divide the steps in the printout so it looks nicer. E.g. Adding a print('==============================================') creates a nice divider.\n",
    "- Create a list of recommended words for a game so every game one word gets randomly chosen from your collection. You are going to need to import the random module https://docs.python.org/3/library/random.html"
   ]
  },
  {
   "cell_type": "code",
   "execution_count": null,
   "id": "19adbda2-6677-4013-86d2-14f75ad289fe",
   "metadata": {
    "id": "19adbda2-6677-4013-86d2-14f75ad289fe",
    "tags": []
   },
   "outputs": [],
   "source": [
    "hangman={0:'''\n",
    "        ____________\n",
    "         |''',\n",
    "        1:'''\n",
    "        ____________\n",
    "         |\n",
    "         O''',\n",
    "        2:'''\n",
    "        ____________\n",
    "         |\n",
    "         O\n",
    "        /''',\n",
    "        3:'''\n",
    "        ____________\n",
    "         |\n",
    "         O\n",
    "        / \\\\''',\n",
    "        4:'''\n",
    "        ____________\n",
    "         |\n",
    "         O\n",
    "        / \\\\\n",
    "         |''',\n",
    "        5:'''\n",
    "        ____________\n",
    "         |\n",
    "         O\n",
    "        / \\\\\n",
    "         |\n",
    "        /''',\n",
    "        6:'''\n",
    "        ____________\n",
    "         |\n",
    "         O\n",
    "        / \\\\\n",
    "         |\n",
    "        / \\\\ '''}"
   ]
  },
  {
   "cell_type": "code",
   "execution_count": null,
   "id": "a81c802e-4628-4f3f-96f7-469ac07dcf7f",
   "metadata": {
    "id": "a81c802e-4628-4f3f-96f7-469ac07dcf7f"
   },
   "outputs": [],
   "source": [
    "# your code here"
   ]
  },
  {
   "cell_type": "markdown",
   "id": "bae827c3-6971-4c49-8aa3-a37393aa6f2f",
   "metadata": {
    "id": "bae827c3-6971-4c49-8aa3-a37393aa6f2f",
    "jp-MarkdownHeadingCollapsed": true,
    "tags": []
   },
   "source": [
    "##### Solution"
   ]
  },
  {
   "cell_type": "code",
   "execution_count": null,
   "id": "6a38acc1-4deb-4be4-a137-73ea41279f7e",
   "metadata": {
    "colab": {
     "base_uri": "https://localhost:8080/"
    },
    "id": "6a38acc1-4deb-4be4-a137-73ea41279f7e",
    "outputId": "b871de3e-0d93-4151-b6c2-e77f8f2a846b"
   },
   "outputs": [
    {
     "name": "stdout",
     "output_type": "stream",
     "text": [
      "Hidden word is ------\n",
      "==============================================================\n",
      "Pick a letter and press ENTER!\n",
      "o\n",
      "WRONG! Number of mistakes left: 5\n",
      "\n",
      "        ____________\n",
      "         |\n",
      "         O\n",
      "==============================================================\n",
      "Pick a letter and press ENTER!\n",
      "a\n",
      "WRONG! Number of mistakes left: 4\n",
      "\n",
      "        ____________\n",
      "         |\n",
      "         O\n",
      "        /\n",
      "==============================================================\n",
      "Pick a letter and press ENTER!\n",
      "u\n",
      "WRONG! Number of mistakes left: 3\n",
      "\n",
      "        ____________\n",
      "         |\n",
      "         O\n",
      "        / \\\n",
      "==============================================================\n",
      "Pick a letter and press ENTER!\n",
      "b\n",
      "WRONG! Number of mistakes left: 2\n",
      "\n",
      "        ____________\n",
      "         |\n",
      "         O\n",
      "        / \\\n",
      "         |\n",
      "==============================================================\n",
      "Pick a letter and press ENTER!\n",
      "e\n",
      "CORRECT! The word indeed contains the letter 'E'.\n",
      "Hidden word is ----E-\n",
      "==============================================================\n",
      "Pick a letter and press ENTER!\n",
      "s\n",
      "WRONG! Number of mistakes left: 1\n",
      "\n",
      "        ____________\n",
      "         |\n",
      "         O\n",
      "        / \\\n",
      "         |\n",
      "        /\n",
      "==============================================================\n",
      "Pick a letter and press ENTER!\n",
      "g\n",
      "WRONG! Number of mistakes left: 0\n",
      "\n",
      "        ____________\n",
      "         |\n",
      "         O\n",
      "        / \\\n",
      "         |\n",
      "        / \\ \n",
      "==============================================================\n",
      "YOU'RE HANGED BUDDY!!\n"
     ]
    }
   ],
   "source": [
    "from random import randrange\n",
    "\n",
    "list_of_words = [\"PYTHON\", \"BOOTCAMP\", \"PRIMER\", \"HANGMAN\"]\n",
    "word = list_of_words[randrange(len(list_of_words))]\n",
    "hidden_word = len(word) * \"-\"\n",
    "\n",
    "print(f\"Hidden word is {hidden_word}\")\n",
    "\n",
    "mistake_count = 6\n",
    "\n",
    "print('==============================================================')\n",
    "\n",
    "while mistake_count > 0 and hidden_word.count(\"-\") != 0:\n",
    "  index_count = 0\n",
    "  print(\"Pick a letter and press ENTER!\")\n",
    "  picked_letter = input().capitalize()\n",
    "\n",
    "  for letter in word:\n",
    "    if letter == picked_letter:\n",
    "      hidden_word = hidden_word[:index_count] + picked_letter + hidden_word[index_count+1:]\n",
    "\n",
    "    index_count += 1\n",
    "\n",
    "  if word.count(picked_letter) > 0:\n",
    "    print(f\"CORRECT! The word indeed contains the letter '{picked_letter}'.\")\n",
    "    print(f\"Hidden word is {hidden_word}\")\n",
    "  else:\n",
    "    mistake_count -= 1\n",
    "    print(f\"WRONG! Number of mistakes left: {mistake_count}\")\n",
    "    print(hangman[6 - mistake_count])\n",
    "  print('==============================================================')\n",
    "\n",
    "if mistake_count == 0:\n",
    "  print(\"YOU'RE HANGED BUDDY!!\")\n",
    "else:\n",
    "  print(\"CONGRATULATIONS!! You guessed the word!\")"
   ]
  },
  {
   "cell_type": "markdown",
   "id": "koF9QvUk7vcT",
   "metadata": {
    "id": "koF9QvUk7vcT"
   },
   "source": [
    "#### Extra BONUS steps"
   ]
  },
  {
   "cell_type": "markdown",
   "id": "0YhZVS2a7y7c",
   "metadata": {
    "id": "0YhZVS2a7y7c"
   },
   "source": [
    "Once you are done with all the steps, you can add some advanced features to your game.\n",
    "Some examples:\n",
    "- Add difficulty levels - it can be based on number of mistakes or complexity of the secret word\n",
    "- Create steps that check users input to make sure it is correct (e.g. no digits or special characters allowed, no more than one letter allowed)\n",
    "You can create any number of special features you like and you can think of"
   ]
  },
  {
   "cell_type": "code",
   "execution_count": null,
   "id": "dnENYrPO7VN-",
   "metadata": {
    "id": "dnENYrPO7VN-"
   },
   "outputs": [],
   "source": [
    "# playing with functions"
   ]
  },
  {
   "cell_type": "code",
   "execution_count": 62,
   "id": "7qyHmg-PWzbP",
   "metadata": {
    "colab": {
     "base_uri": "https://localhost:8080/",
     "height": 145
    },
    "executionInfo": {
     "elapsed": 250,
     "status": "error",
     "timestamp": 1697727342044,
     "user": {
      "displayName": "KaiKo",
      "userId": "13043650929272914643"
     },
     "user_tz": -120
    },
    "id": "7qyHmg-PWzbP",
    "outputId": "29261577-1edf-4be2-e2ab-54bb5cf95287"
   },
   "outputs": [
    {
     "ename": "SyntaxError",
     "evalue": "ignored",
     "output_type": "error",
     "traceback": [
      "\u001b[0;36m  File \u001b[0;32m\"<ipython-input-62-25e3cd84019e>\"\u001b[0;36m, line \u001b[0;32m29\u001b[0m\n\u001b[0;31m    return hidden_word, index_count\u001b[0m\n\u001b[0m    ^\u001b[0m\n\u001b[0;31mSyntaxError\u001b[0m\u001b[0;31m:\u001b[0m 'return' outside function\n"
     ]
    }
   ],
   "source": [
    "def case_correct_letter(word, picked_letter, index_count):\n",
    "    \"\"\"\n",
    "    Update the hidden word with a correctly picked letter and check for a win.\n",
    "\n",
    "    This function takes the current state of the secret word, a picked letter, and an index count as input.\n",
    "    It updates the hidden word if the picked letter is present in the word and checks if the game has been won.\n",
    "\n",
    "    Args (descroption of the input parameters)\n",
    "    word (str): The secret word that the player is trying to guess.\n",
    "    picked_letter (str): The letter guessed by the player.\n",
    "    index_count (int): The index at which the picked letter should be checked and potentially updated in the hidden word.\n",
    "\n",
    "    Example:\n",
    "    For example, if the secret word is \"elephant,\" and the hidden word is \"e____a___,\" and the player picks the letter \"p\" at index 1,\n",
    "    calling correct_letter(\"elephant\", \"p\", 1) will update the hidden word to \"e__p___a__\" and check if the game has been won.\n",
    "\n",
    "    The function will print \"TREFFER!!!   The hidden word contains the letter p.\n",
    "    The hidden word is now: e__p___a__\" if the picked letter is correct.\n",
    "    If the hidden word matches the secret word, it will print \"CONGRATULATIONS!   You've saved your neck :)\".\n",
    "\n",
    "    \"\"\"\n",
    "for characters in word:\n",
    "    if picked_letter == characters:\n",
    "      hidden_word = hidden_word[:index_count] + picked_letter + hidden_word[index_count+1:]\n",
    "      if hidden_word == word:\n",
    "        print(\"\\nThe hidden word was: \" + word)\n",
    "        print(\"\\nCONGRATULATIONS!   You've saved your neck :)\")\n",
    "        break\n",
    "      return hidden_word, index_count"
   ]
  },
  {
   "cell_type": "code",
   "execution_count": null,
   "id": "iGxx_hrvWdmY",
   "metadata": {
    "id": "iGxx_hrvWdmY"
   },
   "outputs": [],
   "source": [
    "pool = [\"Coffee\", \"Bakery\", \"Circle\", \"Lizard\", \"Donkey\", \"Palace\", \"Bikini\", \"Winter\", \"Turtle\", \"Ticket\", \"Office\", \"Orange\", \"People\", \"Candle\", \"Bridge\", \"Spirit\", \"Jacket\", \"Banana\", \"Window\", \"Guitar\", \"Doctor\", \"Rabbit\", \"Flower\", \"Planet\", \"Sunset\", \"Family\", \"Circle\", \"Hammer\", \"Castle\", \"Camera\", \"Forest\", \"Island\", \"Mother\", \"Father\", \"Bridge\", \"Salmon\", \"Tomato\"]\n",
    "import random\n",
    "word = str.upper(random.choice(pool))\n",
    "print(f\"(The word to be guessed is: {word})\")\n",
    "hidden_word = \"-\" * (len(word))\n",
    "print(f\"Hidden word is: {hidden_word}\\n\")\n",
    "mistake_count = 6\n",
    "while mistake_count > 0 and hidden_word.count(\"-\") != 0:\n",
    "   pick = input(\"Pick a letter: \")\n",
    "   picked_letter = str.upper(pick)\n",
    "   index_count = 0\n",
    "   letter_count = word.count(picked_letter) # checks if picked_letter is correct or mistake\n",
    "   if letter_count > 0:\n",
    "       case_correct_letter(word, picked_letter, index_count)\n",
    "       else:\n",
    "           print(f\"\\nTREFFER!!!   The hidden word contains the letter {picked_letter}. \\nThe hidden word is now: \" + hidden_word)\n",
    "   index_count += 1\n",
    "   elif mistake_count > 0 and letter_count == 0:\n",
    "       mistake_count -=1\n",
    "       print(f\"\\nNIETE!   The letter {picked_letter} in not in the hidden word.\\nNumber of mistakes left: {mistake_count}\")\n",
    "else: #elif mistake_count == 0:\n",
    "   print(\"\\nHANGED!!!    You are dead meat, buddy.\")"
   ]
  }
 ],
 "metadata": {
  "colab": {
   "collapsed_sections": [
    "5ae4a8f1-1dff-4197-a884-c7af858522d9",
    "86b350e4-45d5-4e6f-9517-4b9bc2284cee",
    "2cdc5c9b-0d96-44d0-918b-8fa2a1b07413",
    "bae827c3-6971-4c49-8aa3-a37393aa6f2f"
   ],
   "provenance": [
    {
     "file_id": "1vy2BQV6eWP0aZpP-3rVCF6KjV9TPsTtD",
     "timestamp": 1697563478058
    }
   ]
  },
  "kernelspec": {
   "display_name": "Python 3 (ipykernel)",
   "language": "python",
   "name": "python3"
  },
  "language_info": {
   "codemirror_mode": {
    "name": "ipython",
    "version": 3
   },
   "file_extension": ".py",
   "mimetype": "text/x-python",
   "name": "python",
   "nbconvert_exporter": "python",
   "pygments_lexer": "ipython3",
   "version": "3.11.5"
  }
 },
 "nbformat": 4,
 "nbformat_minor": 5
}
